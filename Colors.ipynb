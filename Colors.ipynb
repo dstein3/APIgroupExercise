{
 "cells": [
  {
   "cell_type": "code",
   "execution_count": 33,
   "id": "16ff9f18-8128-49f9-85fc-f79c47787a98",
   "metadata": {},
   "outputs": [
    {
     "name": "stdout",
     "output_type": "stream",
     "text": [
      "<Response [200]>\n",
      "<class 'list'>\n",
      "[{}, {}, {}, {}, {}]\n"
     ]
    }
   ],
   "source": [
    "from bs4 import BeautifulSoup\n",
    "import requests\n",
    "import json\n",
    "\n",
    "def getHTML(url):\n",
    "    response = requests.get(url)\n",
    "    return response.text\n",
    "\n",
    "response = requests.get(\"https://zoo-animal-api.herokuapp.com/animals/rand/5\")\n",
    "print(response)\n",
    "responseDict = response.json()\n",
    "print(type(responseDict))\n",
    "classList = [{},{},{},{},{}]\n",
    "#for num in range(0,5):\n",
    "#    classList[num]['name']=responseDict[num]['name']\n",
    "#    classList[num]['latin_name']=responseDict[num]['latin_name']\n",
    "#    classList[num]['animal_type']=responseDict[num]['animal_type']\n",
    "#    classList[num]['active_time']=responseDict[num]['active_time']\n",
    "#    classList[num]['length_min']=responseDict[num]['length_min']\n",
    "#    classList[num]['length_max']=responseDict[num]['length_max']\n",
    "#    classList[num]['weight_min']=responseDict[num]['weight_min']\n",
    "#    classList[num]['lifespan']=responseDict[num]['lifespan']\n",
    "#    classList[num]['habitat']=responseDict[num]['habitat']\n",
    "#    classList[num]['diet']=responseDict[num]['diet']\n",
    "#    classList[num]['geo_range']=responseDict[num]['geo_range']\n",
    "#    classList[num]['image_link']=responseDict[num]['image_link']\n",
    "#    classList[num]['id']=responseDict[num]['id']\n",
    "    \n",
    "print(classList)\n",
    "                                                    "
   ]
  },
  {
   "cell_type": "code",
   "execution_count": 34,
   "id": "4d1e4c5e-5640-4c40-bd51-5eda4e08dd8f",
   "metadata": {},
   "outputs": [
    {
     "name": "stdout",
     "output_type": "stream",
     "text": [
      "Animal(name='Western Gaboon Viper', latin_name='Bitis rhinoceros', animal_type='Reptile', active_time='Nocturnal', length_min='4', length_max='6', weight_min='40', weight_max='45', lifespan='20', habitat='Tropical forest', diet='Rodents and other small mammals', geo_range='Central Africa', image_link='https://upload.wikimedia.org/wikipedia/commons/9/98/Bitis_gabonica.jpg', id=184)\n",
      "Animal(name=\"Pallas's Cat\", latin_name='Octocolobus manul', animal_type='Mammal', active_time='Nocturnal', length_min='1.5', length_max='2', weight_min='6.5', weight_max='11', lifespan='8', habitat='Mountain regions, including grassland, woodland, and semi-desert', diet='Pikas, hares, and small rodents such as gerbils, voles, and young marmots', geo_range='Central Asia', image_link='https://upload.wikimedia.org/wikipedia/commons/d/d6/Manoel.jpg', id=131)\n",
      "Animal(name='Black-footed Cat', latin_name='Felis nigripes', animal_type='Mammal', active_time='Nocturnal', length_min='1.1', length_max='1.7', weight_min='3.3', weight_max='6.5', lifespan='5', habitat='Desert, savannah, and scrubland', diet='Mice, insects, spiders, lizards, and birds', geo_range='Southern Africa', image_link='https://upload.wikimedia.org/wikipedia/commons/d/da/Zoo_Wuppertal_Schwarzfusskatze.jpg', id=36)\n",
      "Animal(name='Horned Puffin', latin_name='Fratercula corniculata', animal_type='Bird', active_time='Diurnal', length_min='1', length_max='1.2', weight_min='0.9', weight_max='1', lifespan='20', habitat='Ocean and rocky coasts', diet='Fish, mollusks and crustaceans', geo_range='Bering Sea, Arctic and North Pacific oceans', image_link='https://upload.wikimedia.org/wikipedia/commons/d/d8/Fratercula_corniculataUSFWSSL0002774.jpg', id=88)\n",
      "Animal(name='Inca Tern', latin_name='Larosterna inca', animal_type='Bird', active_time='Diurnal', length_min='1.2', length_max='1.3', weight_min='0.42', weight_max='0.51', lifespan='14', habitat='Coastal rocky cliffs', diet='Small fish and marine invertebrates', geo_range='Coast and coastal islands of Chile and Peru', image_link='https://upload.wikimedia.org/wikipedia/commons/3/35/Larosterna_inca_-Lima%2C_Peru_-family-8.jpg', id=92)\n"
     ]
    }
   ],
   "source": [
    "from dataclasses import dataclass, field\n",
    "#zoo animals            https://zoo-animal-api.herokuapp.com/\n",
    "@dataclass\n",
    "class Animal:\n",
    "    name: str\n",
    "    latin_name: str\n",
    "    animal_type: str\n",
    "    active_time: str\n",
    "    length_min: float\n",
    "    length_max: float\n",
    "    weight_min: float\n",
    "    weight_max: float\n",
    "    lifespan: int\n",
    "    habitat: str\n",
    "    diet: str\n",
    "    geo_range: str\n",
    "    image_link: str\n",
    "    id: int\n",
    "    \n",
    "    \n",
    "for num in range(0,5):\n",
    "    classList[num]=Animal(responseDict[num]['name'],responseDict[num]['latin_name'],responseDict[num]['animal_type'],responseDict[num]['active_time'],responseDict[num]['length_min'],responseDict[num]['length_max'],responseDict[num]['weight_min'],responseDict[num]['weight_max'],responseDict[num]['lifespan'],responseDict[num]['habitat'],responseDict[num]['diet'],responseDict[num]['geo_range'],responseDict[num]['image_link'],responseDict[num]['id'])\n",
    "    \n",
    "for animal in classList:\n",
    "    print(animal)\n",
    "    \n"
   ]
  },
  {
   "cell_type": "code",
   "execution_count": 43,
   "id": "86ce45e2-1764-4be3-8e65-c9f6ca50adbf",
   "metadata": {},
   "outputs": [
    {
     "name": "stdout",
     "output_type": "stream",
     "text": [
      "<Response [200]>\n",
      "<class 'list'>\n",
      "[{}, {}, {}, {}, {}]\n",
      "[{'hex': '#91767A', 'rgb': 'rgb(145, 118, 122)', 'hsl': 'hsl(351, 11%, 52%)'}, {'hex': '#6B159E', 'rgb': 'rgb(107, 21, 158)', 'hsl': 'hsl(278, 77%, 35%)'}, {'hex': '#C9095C', 'rgb': 'rgb(201, 9, 92)', 'hsl': 'hsl(334, 91%, 41%)'}, {'hex': '#8628D9', 'rgb': 'rgb(134, 40, 217)', 'hsl': 'hsl(272, 70%, 50%)'}, {'hex': '#501F76', 'rgb': 'rgb(80, 31, 118)', 'hsl': 'hsl(274, 58%, 29%)'}]\n"
     ]
    }
   ],
   "source": [
    "from bs4 import BeautifulSoup\n",
    "import requests\n",
    "import json\n",
    "\n",
    "\n",
    "def getHTML(url):\n",
    "    response = requests.get(url)\n",
    "    return response.text\n",
    "\n",
    "response = requests.get(\"https://x-colors.herokuapp.com/api/random?number=5\")\n",
    "print(response)\n",
    "responseDict = response.json()\n",
    "print(type(responseDict))\n",
    "classList = [{},{},{},{},{}]\n",
    "print(classList)\n",
    "print(response.json())"
   ]
  },
  {
   "cell_type": "code",
   "execution_count": 44,
   "id": "58c7ae50",
   "metadata": {},
   "outputs": [
    {
     "name": "stdout",
     "output_type": "stream",
     "text": [
      "color(hex='#91767A', rgb='rgb(145, 118, 122)', hsl='hsl(351, 11%, 52%)')\n",
      "color(hex='#6B159E', rgb='rgb(107, 21, 158)', hsl='hsl(278, 77%, 35%)')\n",
      "color(hex='#C9095C', rgb='rgb(201, 9, 92)', hsl='hsl(334, 91%, 41%)')\n",
      "color(hex='#8628D9', rgb='rgb(134, 40, 217)', hsl='hsl(272, 70%, 50%)')\n",
      "color(hex='#501F76', rgb='rgb(80, 31, 118)', hsl='hsl(274, 58%, 29%)')\n"
     ]
    }
   ],
   "source": [
    "from dataclasses import dataclass, field\n",
    "\n",
    "\n",
    "@dataclass\n",
    "class color:\n",
    "    hex: str\n",
    "    rgb: str\n",
    "    hsl: str\n",
    "    \n",
    "for num in range(0,5):\n",
    "    classList[num]=color(responseDict[num]['hex'], responseDict[num]['rgb'], responseDict[num]['hsl'])\n",
    "    \n",
    "for color in classList:\n",
    "    print(color)"
   ]
  }
 ],
 "metadata": {
  "kernelspec": {
   "display_name": "Python 3 (ipykernel)",
   "language": "python",
   "name": "python3"
  },
  "language_info": {
   "codemirror_mode": {
    "name": "ipython",
    "version": 3
   },
   "file_extension": ".py",
   "mimetype": "text/x-python",
   "name": "python",
   "nbconvert_exporter": "python",
   "pygments_lexer": "ipython3",
   "version": "3.9.7"
  }
 },
 "nbformat": 4,
 "nbformat_minor": 5
}
